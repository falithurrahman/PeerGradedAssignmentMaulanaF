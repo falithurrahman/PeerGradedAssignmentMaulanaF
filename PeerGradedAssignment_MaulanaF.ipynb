{
  "cells": [
    {
      "cell_type": "markdown",
      "id": "e279d3a2-7377-43d8-9338-c3e546a154e0",
      "metadata": {
        "id": "e279d3a2-7377-43d8-9338-c3e546a154e0"
      },
      "source": [
        "<strong>Exercise 1: Create a Jupyter Notebook</strong>"
      ]
    },
    {
      "cell_type": "markdown",
      "id": "90642806-01ec-49c8-868c-a667c92cdc6c",
      "metadata": {
        "id": "90642806-01ec-49c8-868c-a667c92cdc6c"
      },
      "source": [
        "<h1>Peer-graded_Assignment_MaulanaF</h1>"
      ]
    },
    {
      "cell_type": "markdown",
      "id": "fbe3312d-1bc3-4a88-9f0c-b3c4b32e71ef",
      "metadata": {
        "id": "fbe3312d-1bc3-4a88-9f0c-b3c4b32e71ef"
      },
      "source": [
        "<strong>Exercise 2 - Create a markdown cell with the title of the notebook.</strong>"
      ]
    },
    {
      "cell_type": "markdown",
      "id": "c0b7dd50-bacf-4dc0-98a1-6785b57fb181",
      "metadata": {
        "id": "c0b7dd50-bacf-4dc0-98a1-6785b57fb181"
      },
      "source": [
        "<h1>Data Science Tools & Ecosystem</h1>"
      ]
    },
    {
      "cell_type": "markdown",
      "id": "a5b74512-a6ff-4dd2-89cc-d493d3bfd9fe",
      "metadata": {
        "id": "a5b74512-a6ff-4dd2-89cc-d493d3bfd9fe"
      },
      "source": [
        "<strong>Exercise 3 - Create a markdown cell for an introduction. (1 pt)</strong>"
      ]
    },
    {
      "cell_type": "markdown",
      "id": "728d9b1f-1d0b-4eb3-996a-4453c25444b4",
      "metadata": {
        "id": "728d9b1f-1d0b-4eb3-996a-4453c25444b4"
      },
      "source": [
        "<p>In this notebook, Data Science Tools and Ecosystem are summarized.<p>"
      ]
    },
    {
      "cell_type": "markdown",
      "id": "6015b630-954a-4096-bfc0-dc28b53a378c",
      "metadata": {
        "id": "6015b630-954a-4096-bfc0-dc28b53a378c"
      },
      "source": [
        "<strong>Exercise 4 - Create a markdown cell to list data science languages. (3 pts)</strong>"
      ]
    },
    {
      "cell_type": "markdown",
      "id": "3c957deb-56d8-43b4-9ab9-7f5efea83c17",
      "metadata": {
        "id": "3c957deb-56d8-43b4-9ab9-7f5efea83c17"
      },
      "source": [
        "Some of the popular languages that Data Scientists use are:\n",
        "<ol>\n",
        "    <li>Python.</li>\n",
        "    <li>R.</li>\n",
        "    <li>SQL.</li>\n",
        "    <li>Java.</li>\n",
        "    <li>Julia.</li>\n",
        "    <li>Scala.</li>\n",
        "    <li>C/C++.</li>\n",
        "    <li>JavaScript.</li>\n",
        "</ol>\n"
      ]
    },
    {
      "cell_type": "markdown",
      "id": "2e054783-ae15-402a-8391-6fbb81ec784a",
      "metadata": {
        "id": "2e054783-ae15-402a-8391-6fbb81ec784a"
      },
      "source": [
        "<strong>Exercise 5 - Create a markdown cell to list data science libraries. (3 pts)</strong>"
      ]
    },
    {
      "cell_type": "markdown",
      "id": "5c211684-5f77-4c28-bd23-590a3ab0b368",
      "metadata": {
        "id": "5c211684-5f77-4c28-bd23-590a3ab0b368"
      },
      "source": [
        "Some of the commonly used libraries used by Data Scientists include:\n",
        "<ol>\n",
        "    <li>TensorFlow.</li>\n",
        "    <li>NumPy.</li>\n",
        "    <li>SciPy.</li>\n",
        "    <li>Pandas.</li>\n",
        "    <li>Matplotlib.</li>\n",
        "    <li>Keras.</li>\n",
        "    <li>SciKit-Learn.</li>\n",
        "    <li>PyTorch.</li>\n",
        "    <li>Scrapy.</li>\n",
        "    <li>BeautifulSoup.</li>\n",
        "    <li>LightGBM.</li>\n",
        "    <li>ELI5.</li>\n",
        "    <li>Theano.</li>\n",
        "    <li>NuPIC.</li>\n",
        "    <li>Ramp.</li>\n",
        "    <li>Pipenv.</li>\n",
        "    <li>Bob.</li>\n",
        "    <li>PyBrain.</li>\n",
        "    <li>Caffe2.</li>\n",
        "    <li>Chainer.</li>\n",
        "</ol>"
      ]
    },
    {
      "cell_type": "markdown",
      "id": "22f68c77-7e82-427a-8e8d-12c0a609989a",
      "metadata": {
        "id": "22f68c77-7e82-427a-8e8d-12c0a609989a"
      },
      "source": [
        "<strong>Exercise 6 - Create a markdown cell with a table of Data Science tools. (3 pts)</strong>"
      ]
    },
    {
      "cell_type": "markdown",
      "id": "34f750eb-46e1-46e8-b8a1-45bf703d5cdb",
      "metadata": {
        "id": "34f750eb-46e1-46e8-b8a1-45bf703d5cdb"
      },
      "source": [
        "Data Science Tools:\n",
        "\n",
        "<table style=\"width:100%\">\n",
        "  <tr>\n",
        "    <th>Data Science Tools</th>\n",
        "    <th></th>\n",
        "    <th></th>\n",
        "  </tr>\n",
        "  <tr>\n",
        "    <td>SAS. It is one of those data science tools which are specifically designed for statistical operation</td>\n",
        "    <td></td>\n",
        "    <td></td>\n",
        "  </tr>\n",
        "  <tr>\n",
        "    <td>Apache Spark</td>\n",
        "    <td></td>\n",
        "    <td></td>\n",
        "  </tr>\n",
        "  <tr>\n",
        "    <td>BigML</td>\n",
        "    <td></td>\n",
        "    <td></td>\n",
        "  </tr>\n",
        "</table>"
      ]
    },
    {
      "cell_type": "markdown",
      "id": "0ff5d698-28c6-4af7-9fbf-3c8aeac5c162",
      "metadata": {
        "id": "0ff5d698-28c6-4af7-9fbf-3c8aeac5c162"
      },
      "source": [
        "<strong>Exercise 7 - Create a markdown cell introducing arithmetic expression examples. (1 pt)</strong>"
      ]
    },
    {
      "cell_type": "markdown",
      "id": "05ff289f-d200-40f5-817a-f2d1d65e3474",
      "metadata": {
        "id": "05ff289f-d200-40f5-817a-f2d1d65e3474"
      },
      "source": [
        "<h3>Below are a few examples of evaluating arithmetic expressions in Python</h3>"
      ]
    },
    {
      "cell_type": "code",
      "execution_count": 1,
      "id": "1b0019a7-0338-4d65-863d-3a35f0ca72ff",
      "metadata": {
        "id": "1b0019a7-0338-4d65-863d-3a35f0ca72ff",
        "outputId": "e9989e06-cb3e-4662-f481-8ea30e16d6c6",
        "colab": {
          "base_uri": "https://localhost:8080/"
        }
      },
      "outputs": [
        {
          "output_type": "execute_result",
          "data": {
            "text/plain": [
              "19"
            ]
          },
          "metadata": {},
          "execution_count": 1
        }
      ],
      "source": [
        "# Arithmetic operations\n",
        "code = compile(\"9 + 10\", \"<string>\", \"eval\")\n",
        "eval(code)\n",
        "# Result: 9\n"
      ]
    },
    {
      "cell_type": "code",
      "execution_count": null,
      "id": "ee49c688-2610-4a78-8947-d12f976e940a",
      "metadata": {
        "id": "ee49c688-2610-4a78-8947-d12f976e940a",
        "outputId": "8ed0145a-caea-47f1-debc-014190ae01cf"
      },
      "outputs": [
        {
          "data": {
            "text/plain": [
              "24"
            ]
          },
          "execution_count": 28,
          "metadata": {},
          "output_type": "execute_result"
        }
      ],
      "source": [
        "code1 = compile(\"(5 + 7) * 2\", \"<string>\", \"eval\")\n",
        "eval(code1)\n",
        "# Result: 24"
      ]
    },
    {
      "cell_type": "code",
      "execution_count": null,
      "id": "812b1380-c75c-4854-9eaf-707c1ca6740d",
      "metadata": {
        "id": "812b1380-c75c-4854-9eaf-707c1ca6740d",
        "outputId": "7ecc0868-293e-4b07-8875-4b1cd93424bb"
      },
      "outputs": [
        {
          "data": {
            "text/plain": [
              "65449.84694978735"
            ]
          },
          "execution_count": 29,
          "metadata": {},
          "output_type": "execute_result"
        }
      ],
      "source": [
        "import math\n",
        "# Volume of a sphere\n",
        "code2 = compile(\"4 / 3 * math.pi * math.pow(25, 3)\", \"<string>\", \"eval\")\n",
        "eval(code2)\n",
        "# Result: 65449.84694978735"
      ]
    },
    {
      "cell_type": "markdown",
      "id": "631c4d61-6e2b-45ac-a6a7-e12c80a37434",
      "metadata": {
        "id": "631c4d61-6e2b-45ac-a6a7-e12c80a37434"
      },
      "source": [
        "<strong>Exercise 8 - Create a code cell to multiply and add numbers.(2 pts)</strong>"
      ]
    },
    {
      "cell_type": "code",
      "execution_count": 2,
      "id": "ae03f72b-2c05-4884-ae94-adc07167487d",
      "metadata": {
        "id": "ae03f72b-2c05-4884-ae94-adc07167487d",
        "outputId": "54fb0cd0-4894-4f5f-f237-f3a8a0c80d4d",
        "colab": {
          "base_uri": "https://localhost:8080/"
        }
      },
      "outputs": [
        {
          "output_type": "execute_result",
          "data": {
            "text/plain": [
              "79"
            ]
          },
          "metadata": {},
          "execution_count": 2
        }
      ],
      "source": [
        "(8*9)+7\n",
        "# Result: 17"
      ]
    },
    {
      "cell_type": "markdown",
      "id": "0d55da1f-c304-40e5-84ce-14243b70e2c0",
      "metadata": {
        "id": "0d55da1f-c304-40e5-84ce-14243b70e2c0"
      },
      "source": [
        "<strong>Exercise 9 - Create a code cell to convert minutes to hours. (2 pts)</strong>"
      ]
    },
    {
      "cell_type": "code",
      "execution_count": 3,
      "id": "383731de-c25b-4b4f-a1ce-44f26b6ae2ab",
      "metadata": {
        "id": "383731de-c25b-4b4f-a1ce-44f26b6ae2ab",
        "outputId": "d2951e05-9382-4b62-b470-7cc217e7d4a9",
        "colab": {
          "base_uri": "https://localhost:8080/"
        }
      },
      "outputs": [
        {
          "output_type": "stream",
          "name": "stdout",
          "text": [
            "0 days, 6.0 hours, 0 mins. \n"
          ]
        }
      ],
      "source": [
        "days = 0\n",
        "hours = 0\n",
        "mins = 0\n",
        "\n",
        "time = 360\n",
        "#days = time / 1440\n",
        "leftover_minutes = time % 1440\n",
        "hours = leftover_minutes / 60\n",
        "#mins = time - (days*1440) - (hours*60)\n",
        "print(str(days) + \" days, \" + str(hours) + \" hours, \" + str(mins) +  \" mins. \")\n",
        "\n",
        "# Result: 3.3333333333333335 hours"
      ]
    },
    {
      "cell_type": "markdown",
      "id": "8df63065-35dc-4418-a0dc-51c8589c0ce6",
      "metadata": {
        "id": "8df63065-35dc-4418-a0dc-51c8589c0ce6"
      },
      "source": [
        "<strong>Exercise 10 -Insert a markdown cell to list Objectives.</strong>"
      ]
    },
    {
      "cell_type": "markdown",
      "id": "2ab21b9e-1ba9-4739-a770-c672cb525d65",
      "metadata": {
        "id": "2ab21b9e-1ba9-4739-a770-c672cb525d65"
      },
      "source": [
        "<strong>Objectives:</strong>\n",
        "<ul>\n",
        "    <li>List popular languages that Data Scientists use.</li>\n",
        "    <li>List commonly used libraries used by Data Scientists.</li>\n",
        "    <li>Comment on Data Science tools.</li>\n",
        "</ul>\n",
        "    "
      ]
    },
    {
      "cell_type": "markdown",
      "id": "2fe637ac-7c3c-4053-9a9f-7cadbb99d5b6",
      "metadata": {
        "id": "2fe637ac-7c3c-4053-9a9f-7cadbb99d5b6"
      },
      "source": [
        "<strong>Exercise 11 - Create a markdown cell to indicate the Author’s name.</strong>"
      ]
    },
    {
      "cell_type": "markdown",
      "id": "ee566760-e4a1-4439-baf6-5e54e551929f",
      "metadata": {
        "id": "ee566760-e4a1-4439-baf6-5e54e551929f"
      },
      "source": [
        "<h2>Author:</h2> MaulanaF"
      ]
    }
  ],
  "metadata": {
    "kernelspec": {
      "display_name": "Python",
      "language": "python",
      "name": "conda-env-python-py"
    },
    "language_info": {
      "codemirror_mode": {
        "name": "ipython",
        "version": 3
      },
      "file_extension": ".py",
      "mimetype": "text/x-python",
      "name": "python",
      "nbconvert_exporter": "python",
      "pygments_lexer": "ipython3",
      "version": "3.7.12"
    },
    "colab": {
      "provenance": []
    }
  },
  "nbformat": 4,
  "nbformat_minor": 5
}